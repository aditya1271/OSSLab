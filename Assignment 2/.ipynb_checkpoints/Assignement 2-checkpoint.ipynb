{
 "cells": [
  {
   "cell_type": "markdown",
   "metadata": {},
   "source": [
    "# Assignment 2"
   ]
  },
  {
   "cell_type": "code",
   "execution_count": 1,
   "metadata": {},
   "outputs": [
    {
     "name": "stdout",
     "output_type": "stream",
     "text": [
      "Hello world\n",
      "Hello world\n",
      "Hello world\n",
      "Hello world\n"
     ]
    }
   ],
   "source": [
    "#Q1\n",
    "for x in range(0, 4):\n",
    "    print (\"Hello world\")"
   ]
  },
  {
   "cell_type": "code",
   "execution_count": null,
   "metadata": {},
   "outputs": [],
   "source": [
    "#Q2 was incomplete"
   ]
  },
  {
   "cell_type": "code",
   "execution_count": 2,
   "metadata": {},
   "outputs": [
    {
     "name": "stdout",
     "output_type": "stream",
     "text": [
      "[2, 3, 4, 5]\n"
     ]
    }
   ],
   "source": [
    "#Q3\n",
    "l=[1,2,3,4,5,2,3,4,7,9,5]\n",
    "l1=[]\n",
    "l2=[]\n",
    "for i in l:\n",
    "    if i not in l1:\n",
    "        l1.append(i)\n",
    "    else:\n",
    "        l2.append(i)\n",
    "print(l2)"
   ]
  },
  {
   "cell_type": "code",
   "execution_count": 3,
   "metadata": {},
   "outputs": [
    {
     "name": "stdout",
     "output_type": "stream",
     "text": [
      "[[1, 3, 2], [2, 9, 7], [2, 4]]\n"
     ]
    }
   ],
   "source": [
    "#Q4\n",
    "def group(x,l):\n",
    "        gl=[]\n",
    "        g=[]\n",
    "        i=0\n",
    "        while i<len(x):\n",
    "                if(len(gl)<l):\n",
    "                        gl.append(x[i])\n",
    "                        i=i+1\n",
    "                else:\n",
    "                        g.append(gl)\n",
    "                        gl=[]\n",
    "        g.append(gl)\n",
    "        return g\n",
    "print (group([1,3,2,2,9,7,2,4],3))"
   ]
  },
  {
   "cell_type": "code",
   "execution_count": 4,
   "metadata": {},
   "outputs": [
    {
     "name": "stdout",
     "output_type": "stream",
     "text": [
      "['dddd', 'a', 'bb', 'ccc']\n",
      "['a', 'bb', 'ccc', 'dddd']\n"
     ]
    }
   ],
   "source": [
    "#Q5\n",
    "xs = ['dddd','a','bb','ccc']\n",
    "print (xs)\n",
    "xs.sort(key=lambda s: len(s))\n",
    "print (xs)"
   ]
  },
  {
   "cell_type": "code",
   "execution_count": 5,
   "metadata": {},
   "outputs": [
    {
     "name": "stdout",
     "output_type": "stream",
     "text": [
      "['a.c', 'x.c', 'a.py', 'b.py', 'bar.txt', 'foo.txt']\n"
     ]
    }
   ],
   "source": [
    "#Q6\n",
    "import os\n",
    "\n",
    "def extsort(files):\n",
    "    return sorted(files,key=lambda x: os.path.splitext(x)[1])\n",
    "print (extsort(['a.c', 'a.py', 'b.py', 'bar.txt', 'foo.txt', 'x.c']) )"
   ]
  },
  {
   "cell_type": "code",
   "execution_count": 6,
   "metadata": {},
   "outputs": [
    {
     "name": "stdout",
     "output_type": "stream",
     "text": [
      "helloLorem ipsum dolor sit amet, consectetuer adipiscing elit. Aenean commodo ligula eget dolor.\n",
      "\n",
      "Aenean massa. Cum sociis natoque penatibus et magnis dis parturient montes, nascetur ridiculus mus.\n",
      "\n",
      "Donec quam felis, ultricies nec, pellentesque eu, pretium quis, sem. Nulla consequat massa quis enim.\n",
      "\n",
      "Donec pede justo, fringilla vel, aliquet nec, vulputate eget, arcu.\n",
      "\n",
      "In enim justo, rhoncus ut, imperdiet a, venenatis vitae, justo. Nullam dictum felis eu pede mollis pretium.\n",
      "\n",
      "Integer tincidunt. Cras dapibus. Vivamus elementum semper nisi. Aenean vulputate eleifend tellus.\n",
      "\n",
      "Aenean leo ligula, porttitor eu, consequat vitae, eleifend ac, enim.\n",
      "\n",
      "Aliquam lorem ante, dapibus in, viverra quis, feugiat a, tellus. Phasellus viverra nulla ut metus varius laoreet.\n",
      "\n",
      "Quisque rutrum. Aenean imperdiet. Etiam ultricies nisi vel augue. Curabitur ullamcorper ultricies nisi.\n",
      "\n",
      "Nam eget dui. Etiam rhoncus.\n",
      "\n",
      "Maecenas tempus, tellus eget condimentum rhoncus, sem quam semper libero, sit amet adipiscing sem neque sed ipsum.\n",
      "\n",
      "Nam quam nunc, blandit vel, luctus pulvinar, hendrerit id, lorem. Maecenas nec odio et ante tincidunt tempus. Donec vitae sapien ut libero venenatis faucibus.\n",
      "\n",
      "Nullam quis ante. Etiam sit amet orci eget eros faucibus tincidunt. Duis leo. Sed fringilla mauris sit amet nibh. Donec sodales sagittis magna. Sed consequat, leo eget bibendum sodales, augue velit cursus nunc,\n",
      "helloLorem ipsum dolor sit amet, consectetuer adipiscing elit. Aenean commodo ligula eget dolor.\n",
      "\n",
      "\n",
      "\n",
      "Aenean massa. Cum sociis natoque penatibus et magnis dis parturient montes, nascetur ridiculus mus.\n",
      "\n",
      "\n",
      "\n",
      "Donec quam felis, ultricies nec, pellentesque eu, pretium quis, sem. Nulla consequat massa quis enim.\n",
      "\n",
      "\n",
      "\n",
      "Donec pede justo, fringilla vel, aliquet nec, vulputate eget, arcu.\n",
      "\n",
      "\n",
      "\n",
      "In enim justo, rhoncus ut, imperdiet a, venenatis vitae, justo. Nullam dictum felis eu pede mollis pretium.\n",
      "\n",
      "\n",
      "\n",
      "Integer tincidunt. Cras dapibus. Vivamus elementum semper nisi. Aenean vulputate eleifend tellus.\n",
      "\n",
      "\n",
      "\n",
      "Aenean leo ligula, porttitor eu, consequat vitae, eleifend ac, enim.\n",
      "\n",
      "\n",
      "\n",
      "Aliquam lorem ante, dapibus in, viverra quis, feugiat a, tellus. Phasellus viverra nulla ut metus varius laoreet.\n",
      "\n",
      "\n",
      "\n",
      "Quisque rutrum. Aenean imperdiet. Etiam ultricies nisi vel augue. Curabitur ullamcorper ultricies nisi.\n",
      "\n",
      "\n",
      "\n",
      "Nam eget dui. Etiam rhoncus.\n",
      "\n",
      "\n",
      "\n",
      "Maecenas tempus, tellus eget condimentum rhoncus, sem quam semper libero, sit amet adipiscing sem neque sed ipsum.\n",
      "\n",
      "\n",
      "\n",
      "Nam quam nunc, blandit vel, luctus pulvinar, hendrerit id, lorem. Maecenas nec odio et ante tincidunt tempus. Donec vitae sapien ut libero venenatis faucibus.\n",
      "\n",
      "\n",
      "\n",
      "Nullam quis ante. Etiam sit amet orci eget eros faucibus tincidunt. Duis leo. Sed fringilla mauris sit amet nibh. Donec sodales sagittis magna. Sed consequat, leo eget bibendum sodales, augue velit cursus nunc,\n"
     ]
    }
   ],
   "source": [
    "#Q7\n",
    "# read the entire file as one string\n",
    "myfile = open('file.txt') \n",
    "data = myfile.read()\n",
    "print(data)\n",
    "myfile.close()   \n",
    "\n",
    "myfile = open('file.txt') \n",
    "myline = myfile.readline()\n",
    "while myline:\n",
    "    print(myline)\n",
    "    myline = myfile.readline()\n",
    "myfile.close()   \n",
    "# process the lines\n",
    "\n",
    "\n",
    "with open('filename.txt' , 'wt') as f:\n",
    "    f.write ('hi there, this is a first line of file.\\n')\n",
    "    f.write ('and another line.\\n')\n",
    "\n",
    "f = open(\"filename.txt\", \"a\")\n",
    "f.writelines([\"See you soon!\", \"Over and out.\"])\n",
    "f.close()"
   ]
  },
  {
   "cell_type": "code",
   "execution_count": 7,
   "metadata": {},
   "outputs": [
    {
     "name": "stdout",
     "output_type": "stream",
     "text": [
      "lines: 25 words: 200 characters: 1361\n"
     ]
    }
   ],
   "source": [
    "#Q8\n",
    "file = open(\"file.txt\", \"r\")\n",
    "\n",
    "number_of_lines = 0\n",
    "number_of_words = 0\n",
    "number_of_characters = 0\n",
    "for line in file:\n",
    "  line = line.strip(\"\\n\")\n",
    "  words = line.split()\n",
    "  number_of_lines += 1\n",
    "  number_of_words += len(words)\n",
    "  number_of_characters += len(line)\n",
    "\n",
    "file.close()\n",
    "\n",
    "print(\"lines:\", number_of_lines, \"words:\", number_of_words, \"characters:\", number_of_characters)\n"
   ]
  },
  {
   "cell_type": "code",
   "execution_count": 8,
   "metadata": {},
   "outputs": [
    {
     "name": "stdout",
     "output_type": "stream",
     "text": [
      "Nullam quis ante. Etiam sit amet orci eget eros faucibus tincidunt. Duis leo. Sed fringilla mauris sit amet nibh. Donec sodales sagittis magna. Sed consequat, leo eget bibendum sodales, augue velit cursus nunc,\n",
      "\n",
      "Nam quam nunc, blandit vel, luctus pulvinar, hendrerit id, lorem. Maecenas nec odio et ante tincidunt tempus. Donec vitae sapien ut libero venenatis faucibus.\n",
      "\n",
      "Maecenas tempus, tellus eget condimentum rhoncus, sem quam semper libero, sit amet adipiscing sem neque sed ipsum.\n",
      "\n",
      "Nam eget dui. Etiam rhoncus.\n",
      "\n",
      "Quisque rutrum. Aenean imperdiet. Etiam ultricies nisi vel augue. Curabitur ullamcorper ultricies nisi.\n",
      "\n",
      "Aliquam lorem ante, dapibus in, viverra quis, feugiat a, tellus. Phasellus viverra nulla ut metus varius laoreet.\n",
      "\n",
      "Aenean leo ligula, porttitor eu, consequat vitae, eleifend ac, enim.\n",
      "\n",
      "Integer tincidunt. Cras dapibus. Vivamus elementum semper nisi. Aenean vulputate eleifend tellus.\n",
      "\n",
      "In enim justo, rhoncus ut, imperdiet a, venenatis vitae, justo. Nullam dictum felis eu pede mollis pretium.\n",
      "\n",
      "Donec pede justo, fringilla vel, aliquet nec, vulputate eget, arcu.\n",
      "\n",
      "Donec quam felis, ultricies nec, pellentesque eu, pretium quis, sem. Nulla consequat massa quis enim.\n",
      "\n",
      "Aenean massa. Cum sociis natoque penatibus et magnis dis parturient montes, nascetur ridiculus mus.\n",
      "\n",
      "helloLorem ipsum dolor sit amet, consectetuer adipiscing elit. Aenean commodo ligula eget dolor.\n"
     ]
    }
   ],
   "source": [
    "#Q9\n",
    "ofile=open(\"file.txt\",\"r\")\n",
    "k=ofile.readlines()\n",
    "t=reversed(k)\n",
    "for i in t:\n",
    "    print(i.rstrip())"
   ]
  },
  {
   "cell_type": "code",
   "execution_count": 9,
   "metadata": {},
   "outputs": [
    {
     "name": "stdout",
     "output_type": "stream",
     "text": [
      "\n",
      ".rolod tege alugil odommoc naeneA .tile gnicsipida reutetcesnoc ,tema tis rolod muspi meroLolleh\n",
      "\n",
      "\n",
      "\n",
      ".sum sulucidir rutecsan ,setnom tneirutrap sid singam te subitanep euqotan siicos muC .assam naeneA\n",
      "\n",
      "\n",
      "\n",
      ".mine siuq assam tauqesnoc alluN .mes ,siuq muiterp ,ue euqsetnellep ,cen seicirtlu ,silef mauq cenoD\n",
      "\n",
      "\n",
      "\n",
      ".ucra ,tege etatupluv ,cen teuqila ,lev allignirf ,otsuj edep cenoD\n",
      "\n",
      "\n",
      "\n",
      ".muiterp sillom edep ue silef mutcid malluN .otsuj ,eativ sitanenev ,a teidrepmi ,tu sucnohr ,otsuj mine nI\n",
      "\n",
      "\n",
      "\n",
      ".sullet dnefiele etatupluv naeneA .isin repmes mutnemele sumaviV .subipad sarC .tnudicnit regetnI\n",
      "\n",
      "\n",
      "\n",
      ".mine ,ca dnefiele ,eativ tauqesnoc ,ue rotittrop ,alugil oel naeneA\n",
      "\n",
      "\n",
      "\n",
      ".teeroal suirav sutem tu allun arreviv sullesahP .sullet ,a taiguef ,siuq arreviv ,ni subipad ,etna merol mauqilA\n",
      "\n",
      "\n",
      "\n",
      ".isin seicirtlu reprocmallu rutibaruC .eugua lev isin seicirtlu maitE .teidrepmi naeneA .murtur euqsiuQ\n",
      "\n",
      "\n",
      "\n",
      ".sucnohr maitE .iud tege maN\n",
      "\n",
      "\n",
      "\n",
      ".muspi des euqen mes gnicsipida tema tis ,orebil repmes mauq mes ,sucnohr mutnemidnoc tege sullet ,supmet saneceaM\n",
      "\n",
      "\n",
      "\n",
      ".subicuaf sitanenev orebil tu neipas eativ cenoD .supmet tnudicnit etna te oido cen saneceaM .merol ,di tirerdneh ,ranivlup sutcul ,lev tidnalb ,cnun mauq maN\n",
      "\n",
      "\n",
      ",cnun susruc tilev eugua ,selados mudnebib tege oel ,tauqesnoc deS .angam sittigas selados cenoD .hbin tema tis siruam allignirf deS .oel siuD .tnudicnit subicuaf sore tege icro tema tis maitE .etna siuq malluN\n"
     ]
    }
   ],
   "source": [
    "#Q10\n",
    "\n",
    "ofile=open(\"file.txt\",\"r\")\n",
    "k=ofile.readlines()\n",
    "for i in k:\n",
    "    print(i[::-1])"
   ]
  },
  {
   "cell_type": "code",
   "execution_count": 10,
   "metadata": {},
   "outputs": [
    {
     "name": "stdout",
     "output_type": "stream",
     "text": [
      "hi there, this is a \n",
      "first line of file.\n",
      "\n",
      "and another line.\n",
      "\n",
      "See you soon!Over an\n",
      "d out.\n"
     ]
    }
   ],
   "source": [
    "#Q11\n",
    "def wrap(filename,width):\n",
    " k = width\n",
    " f=open(filename).readlines()\n",
    " for i in f:\n",
    "  new=i\n",
    "  while len(new)>k:\n",
    "    print (new[:k])\n",
    "    new=new[k:]\n",
    "  print (new)\n",
    "import sys\n",
    "wrap(\"filename.txt\",20)"
   ]
  },
  {
   "cell_type": "code",
   "execution_count": 11,
   "metadata": {},
   "outputs": [
    {
     "name": "stdout",
     "output_type": "stream",
     "text": [
      "[2, 4, 6, 8, 10, 12, 14, 16, 18, 20]\n"
     ]
    }
   ],
   "source": [
    "#Q12\n",
    "def num (n) :\n",
    "    return n * 2\n",
    "old=[1,2,3,4,5,6,7,8,9,10]        \n",
    "new = [num(x) for x in old]\n",
    "print(list(new))  "
   ]
  },
  {
   "cell_type": "code",
   "execution_count": 12,
   "metadata": {},
   "outputs": [
    {
     "name": "stdout",
     "output_type": "stream",
     "text": [
      "[234, 16, 26, 312, 246]\n"
     ]
    }
   ],
   "source": [
    "#Q13\n",
    "def func(val):\n",
    "    return val%2==0\n",
    "\n",
    "def filter(f,a):\n",
    "    x1=[x for x in a if func(x) ]\n",
    "    return x1\n",
    "\n",
    "x=[234,341,3,16,4621,453,26,4531,312,246]\n",
    "print(filter(func,x))"
   ]
  },
  {
   "cell_type": "code",
   "execution_count": 13,
   "metadata": {},
   "outputs": [
    {
     "name": "stdout",
     "output_type": "stream",
     "text": [
      "[(1, 1, 2), (1, 2, 3), (1, 3, 4), (2, 2, 4), (1, 4, 5), (2, 3, 5), (1, 5, 6), (2, 4, 6), (3, 3, 6), (1, 6, 7), (2, 5, 7), (3, 4, 7), (1, 7, 8), (2, 6, 8), (3, 5, 8), (4, 4, 8)]\n"
     ]
    }
   ],
   "source": [
    "#Q14\n",
    "def triplets(n): \n",
    "    return [ (a,c-a,c) for c in range(2,n) for a in range(1,c//2+1) ]\n",
    "print(triplets(9))"
   ]
  },
  {
   "cell_type": "code",
   "execution_count": 14,
   "metadata": {},
   "outputs": [
    {
     "name": "stdout",
     "output_type": "stream",
     "text": [
      "<bound method NDFrame.head of    Roll Name  Age  Marks\n",
      "0     1  XYZ   12    100\n",
      "1     2  ABC   13     50>\n",
      "[[1 'XYZ' 12 100]\n",
      " [2 'ABC' 13 50]]\n"
     ]
    }
   ],
   "source": [
    "#Q15\n",
    "import pandas as pd\n",
    "data_frame = pd.read_csv(\"hello.csv\")   \n",
    "print(data_frame.head)\n",
    "arr = data_frame.to_numpy()\n",
    "print(arr)"
   ]
  },
  {
   "cell_type": "code",
   "execution_count": 15,
   "metadata": {},
   "outputs": [
    {
     "name": "stdout",
     "output_type": "stream",
     "text": [
      "<bound method NDFrame.head of          Roll Name   Age  Marks\n",
      "0           1  XYZ  12.0  100.0\n",
      "1           2  ABC  13.0   50.0\n",
      "2    //dhbxnd  NaN   NaN    NaN\n",
      "3  #njwkxmklw  NaN   NaN    NaN>\n",
      "[['1' 'XYZ' 12.0 100.0]\n",
      " ['2' 'ABC' 13.0 50.0]\n",
      " ['//dhbxnd' nan nan nan]\n",
      " ['#njwkxmklw' nan nan nan]]\n"
     ]
    }
   ],
   "source": [
    "#Q16\n",
    "import pandas as pd\n",
    "data_frame = pd.read_csv(\"hello1.csv\" ,sep = ':')   \n",
    "print(data_frame.head)\n",
    "arr = data_frame.to_numpy()\n",
    "print(arr)"
   ]
  },
  {
   "cell_type": "code",
   "execution_count": 16,
   "metadata": {},
   "outputs": [
    {
     "name": "stdout",
     "output_type": "stream",
     "text": [
      "<bound method NDFrame.head of          Roll Name   Age  Marks\n",
      "0           1  XYZ  12.0  100.0\n",
      "1           2  ABC  13.0   50.0\n",
      "2    //dhbxnd  NaN   NaN    NaN\n",
      "3  #njwkxmklw  NaN   NaN    NaN>\n",
      "[['1' 'XYZ' 12.0 100.0]\n",
      " ['2' 'ABC' 13.0 50.0]\n",
      " ['//dhbxnd' nan nan nan]\n",
      " ['#njwkxmklw' nan nan nan]]\n"
     ]
    }
   ],
   "source": [
    "#Q17\n",
    "import pandas as pd\n",
    "data_frame = pd.read_csv(\"hello1.csv\" ,sep = ':')   \n",
    "print(data_frame.head)\n",
    "arr = data_frame.to_numpy()\n",
    "print(arr)"
   ]
  },
  {
   "cell_type": "code",
   "execution_count": 17,
   "metadata": {},
   "outputs": [
    {
     "name": "stdout",
     "output_type": "stream",
     "text": [
      "['ahello', 'bhello', 'chello', 'dhello', 'ehello', 'fhello', 'ghello', 'hhello', 'ihello', 'jhello', 'khello', 'lhello', 'mhello', 'nhello', 'ohello', 'phello', 'qhello', 'rhello', 'shello', 'thello', 'uhello', 'vhello', 'whello', 'xhello', 'yhello', 'zhello', 'haello', 'hbello', 'hcello', 'hdello', 'heello', 'hfello', 'hgello', 'hhello', 'hiello', 'hjello', 'hkello', 'hlello', 'hmello', 'hnello', 'hoello', 'hpello', 'hqello', 'hrello', 'hsello', 'htello', 'huello', 'hvello', 'hwello', 'hxello', 'hyello', 'hzello', 'heallo', 'hebllo', 'hecllo', 'hedllo', 'heello', 'hefllo', 'hegllo', 'hehllo', 'heillo', 'hejllo', 'hekllo', 'helllo', 'hemllo', 'henllo', 'heollo', 'hepllo', 'heqllo', 'herllo', 'hesllo', 'hetllo', 'heullo', 'hevllo', 'hewllo', 'hexllo', 'heyllo', 'hezllo', 'helalo', 'helblo', 'helclo', 'heldlo', 'helelo', 'helflo', 'helglo', 'helhlo', 'helilo', 'heljlo', 'helklo', 'helllo', 'helmlo', 'helnlo', 'helolo', 'helplo', 'helqlo', 'helrlo', 'helslo', 'heltlo', 'helulo', 'helvlo', 'helwlo', 'helxlo', 'helylo', 'helzlo', 'hellao', 'hellbo', 'hellco', 'helldo', 'helleo', 'hellfo', 'hellgo', 'hellho', 'hellio', 'helljo', 'hellko', 'helllo', 'hellmo', 'hellno', 'helloo', 'hellpo', 'hellqo', 'hellro', 'hellso', 'hellto', 'helluo', 'hellvo', 'hellwo', 'hellxo', 'hellyo', 'hellzo', 'helloa', 'hellob', 'helloc', 'hellod', 'helloe', 'hellof', 'hellog', 'helloh', 'helloi', 'helloj', 'hellok', 'hellol', 'hellom', 'hellon', 'helloo', 'hellop', 'helloq', 'hellor', 'hellos', 'hellot', 'hellou', 'hellov', 'hellow', 'hellox', 'helloy', 'helloz', 'ello', 'hllo', 'helo', 'helo', 'hell', 'aello', 'bello', 'cello', 'dello', 'eello', 'fello', 'gello', 'hello', 'iello', 'jello', 'kello', 'lello', 'mello', 'nello', 'oello', 'pello', 'qello', 'rello', 'sello', 'tello', 'uello', 'vello', 'wello', 'xello', 'yello', 'zello', 'hallo', 'hbllo', 'hcllo', 'hdllo', 'hello', 'hfllo', 'hgllo', 'hhllo', 'hillo', 'hjllo', 'hkllo', 'hlllo', 'hmllo', 'hnllo', 'hollo', 'hpllo', 'hqllo', 'hrllo', 'hsllo', 'htllo', 'hullo', 'hvllo', 'hwllo', 'hxllo', 'hyllo', 'hzllo', 'healo', 'heblo', 'heclo', 'hedlo', 'heelo', 'heflo', 'heglo', 'hehlo', 'heilo', 'hejlo', 'heklo', 'hello', 'hemlo', 'henlo', 'heolo', 'heplo', 'heqlo', 'herlo', 'heslo', 'hetlo', 'heulo', 'hevlo', 'hewlo', 'hexlo', 'heylo', 'hezlo', 'helao', 'helbo', 'helco', 'heldo', 'heleo', 'helfo', 'helgo', 'helho', 'helio', 'heljo', 'helko', 'hello', 'helmo', 'helno', 'heloo', 'helpo', 'helqo', 'helro', 'helso', 'helto', 'heluo', 'helvo', 'helwo', 'helxo', 'helyo', 'helzo', 'hella', 'hellb', 'hellc', 'helld', 'helle', 'hellf', 'hellg', 'hellh', 'helli', 'hellj', 'hellk', 'helll', 'hellm', 'helln', 'hello', 'hellp', 'hellq', 'hellr', 'hells', 'hellt', 'hellu', 'hellv', 'hellw', 'hellx', 'helly', 'hellz', 'helloa', 'hellob', 'helloc', 'hellod', 'helloe', 'hellof', 'hellog', 'helloh', 'helloi', 'helloj', 'hellok', 'hellol', 'hellom', 'hellon', 'helloo', 'hellop', 'helloq', 'hellor', 'hellos', 'hellot', 'hellou', 'hellov', 'hellow', 'hellox', 'helloy', 'helloz', 'ehllo', 'hlelo', 'hello', 'helol']\n"
     ]
    }
   ],
   "source": [
    "#Q18\n",
    "import string\n",
    "def mutate(d):\n",
    "    res=[]\n",
    "    for i in range(len(d)+1):\n",
    "        temp=[d[:i]+a+d[i:] for a in string.ascii_lowercase]\n",
    "        res.extend(temp)\n",
    "    temp=[d[:i]+d[i+1:] for i in range(len(d))]\n",
    "    res.extend(temp)\n",
    "    for i in range(len(d)+1):\n",
    "        temp=[d[:i]+a+d[i+1:] for a in string.ascii_lowercase]\n",
    "        res.extend(temp)\n",
    "    for i in range(len(d)-1):\n",
    "        res.append(d[:i]+d[i+1]+d[i]+d[i+2:])\n",
    "    return res\n",
    "print(  mutate('hello'))\n"
   ]
  },
  {
   "cell_type": "code",
   "execution_count": 18,
   "metadata": {},
   "outputs": [
    {
     "name": "stdout",
     "output_type": "stream",
     "text": [
      "True\n"
     ]
    }
   ],
   "source": [
    "#Q19\n",
    "import string\n",
    "def mutate(d):\n",
    "    res=[]\n",
    "    for i in range(len(d)+1):\n",
    "        temp=[d[:i]+a+d[i:] for a in string.ascii_lowercase]\n",
    "        res.extend(temp)\n",
    "    temp=[d[:i]+d[i+1:] for i in range(len(d))]\n",
    "    res.extend(temp)\n",
    "    for i in range(len(d)+1):\n",
    "        temp=[d[:i]+a+d[i+1:] for a in string.ascii_lowercase]\n",
    "        res.extend(temp)\n",
    "    for i in range(len(d)-1):\n",
    "        res.append(d[:i]+d[i+1]+d[i]+d[i+2:])\n",
    "    return res\n",
    "def nearly_equal(a,b):\n",
    "    return a in mutate(b)\n",
    "print (nearly_equal(\"heflo\",'helo'))\n"
   ]
  },
  {
   "cell_type": "code",
   "execution_count": 19,
   "metadata": {},
   "outputs": [
    {
     "name": "stdout",
     "output_type": "stream",
     "text": [
      "{'h': 7, 'e': 149, 'l': 65, 'o': 45, 'L': 1, 'r': 50, 'm': 55, ' ': 187, 'i': 105, 'p': 25, 's': 84, 'u': 97, 'd': 31, 't': 87, 'a': 84, ',': 32, 'c': 41, 'n': 77, 'g': 19, '.': 31, 'A': 6, '\\n': 24, 'C': 3, 'q': 16, 'b': 12, 'D': 5, 'f': 9, 'N': 5, 'j': 3, 'v': 18, 'I': 2, 'V': 1, 'P': 1, 'Q': 1, 'E': 3, 'M': 2, 'S': 2}\n",
      "\n",
      "\n",
      "it is a text file\n"
     ]
    }
   ],
   "source": [
    "#Q20\n",
    "f=\"file.txt\"\n",
    "file = open ( f, \"r\" )\n",
    "a=[]\n",
    "b={}\n",
    "for i in file:\n",
    "    for j in range(0,len(i)):\n",
    "        a.append(i[j])\n",
    "for i in a:\n",
    "    if i in b:\n",
    "        b[i]+=1\n",
    "    else:\n",
    "        b[i]=1\n",
    "print(b)\n",
    "c=f.split(\".\")\n",
    "if c[1]==\"txt\":\n",
    "    print(\"\\n\\nit is a text file\")\n",
    "elif c[1]==\"cpp\":\n",
    "    print(\"\\n\\nit is a c++ file\")\n",
    "elif c[1]==\"py\":\n",
    "    print(\"\\n\\nit is a python file\")\n",
    "else:\n",
    "    print(\"\\n\\nit is a c file\")"
   ]
  },
  {
   "cell_type": "code",
   "execution_count": 20,
   "metadata": {},
   "outputs": [
    {
     "name": "stdout",
     "output_type": "stream",
     "text": [
      "dict_values([['soupe', 'souep', 'peuos'], ['tea', 'tae', 'eat', 'ate'], ['done', 'node'], ['bhia', 'ihba', 'abhi']])\n"
     ]
    }
   ],
   "source": [
    "#Q21\n",
    "def anagrams(x):\n",
    "        from itertools import permutations\n",
    "        s={}\n",
    "        while len(x)>0:\n",
    "                x1=x.pop()\n",
    "                s[x1]=s.get(x1,[])\n",
    "                s[x1].append(x1)\n",
    "                i=0\n",
    "                while i<len(x):\n",
    "                        z1=x[i]\n",
    "                        perm=[''.join(p) for p in permutations(x1)]\n",
    "                        if z1 in perm:\n",
    "                                x.remove(z1)\n",
    "                                s[x1].append(z1)\n",
    "                        else:i=i+1\n",
    "        return s.values()\n",
    "print (anagrams(['tae','souep','eat','ihba','node','peuos','ate','abhi','bhia','done','tea','soupe']))"
   ]
  },
  {
   "cell_type": "code",
   "execution_count": null,
   "metadata": {},
   "outputs": [],
   "source": []
  }
 ],
 "metadata": {
  "kernelspec": {
   "display_name": "Python 3",
   "language": "python",
   "name": "python3"
  },
  "language_info": {
   "codemirror_mode": {
    "name": "ipython",
    "version": 3
   },
   "file_extension": ".py",
   "mimetype": "text/x-python",
   "name": "python",
   "nbconvert_exporter": "python",
   "pygments_lexer": "ipython3",
   "version": "3.8.5"
  }
 },
 "nbformat": 4,
 "nbformat_minor": 4
}
