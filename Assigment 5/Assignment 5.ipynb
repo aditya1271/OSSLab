{
 "cells": [
  {
   "cell_type": "markdown",
   "metadata": {},
   "source": [
    "Aditya Aggarwal 18803011 B13"
   ]
  },
  {
   "cell_type": "code",
   "execution_count": 1,
   "metadata": {},
   "outputs": [
    {
     "name": "stdout",
     "output_type": "stream",
     "text": [
      "[[1. 1. 1. 1.]\n",
      " [1. 1. 1. 1.]\n",
      " [1. 1. 1. 1.]\n",
      " [1. 1. 1. 1.]]\n",
      "[[1. 1. 1. 1.]\n",
      " [1. 1. 1. 1.]\n",
      " [1. 1. 1. 1.]\n",
      " [1. 1. 1. 1.]]\n"
     ]
    }
   ],
   "source": [
    "#Q1\n",
    "import scipy\n",
    "import numpy as np\n",
    "ar=np.ones((4,4))\n",
    "print(ar)\n",
    "np.savetxt(\"test.txt\", ar)\n",
    "content = np.loadtxt('test.txt')\n",
    "print(content)\n"
   ]
  },
  {
   "cell_type": "code",
   "execution_count": 2,
   "metadata": {},
   "outputs": [
    {
     "name": "stdout",
     "output_type": "stream",
     "text": [
      "3.0\n",
      "4.0\n",
      "9.62260298998748\n"
     ]
    }
   ],
   "source": [
    "#Q2\n",
    "from scipy.special import cbrt\n",
    "print(cbrt(27))\n",
    "print(cbrt(64))\n",
    "print(cbrt(891))"
   ]
  },
  {
   "cell_type": "code",
   "execution_count": 3,
   "metadata": {},
   "outputs": [
    {
     "name": "stdout",
     "output_type": "stream",
     "text": [
      "-7.0\n",
      "[[-0.28571429  0.71428571]\n",
      " [ 0.42857143 -0.57142857]]\n"
     ]
    }
   ],
   "source": [
    "#Q3\n",
    "from scipy import linalg\n",
    "matrix = np.array([[4,5],[3,2]])\n",
    "print(linalg.det(matrix))\n",
    "mi=linalg.inv(matrix)\n",
    "print(mi)\n"
   ]
  },
  {
   "cell_type": "code",
   "execution_count": 4,
   "metadata": {},
   "outputs": [
    {
     "name": "stdout",
     "output_type": "stream",
     "text": [
      "[[5 4]\n",
      " [6 3]]\n",
      "[ 9.+0.j -1.+0.j]\n",
      "[[ 0.70710678 -0.5547002 ]\n",
      " [ 0.70710678  0.83205029]]\n"
     ]
    }
   ],
   "source": [
    "#Q4\n",
    "import scipy.linalg as scl\n",
    "import numpy as np\n",
    "array = np.array([[5,4],[6,3]])\n",
    "print(array)\n",
    "eigvals, eigvecs = scl.eig(array)\n",
    "print(eigvals)\n",
    "print(eigvecs)"
   ]
  },
  {
   "cell_type": "markdown",
   "metadata": {},
   "source": [
    "# Q5"
   ]
  },
  {
   "cell_type": "code",
   "execution_count": 5,
   "metadata": {},
   "outputs": [
    {
     "name": "stdout",
     "output_type": "stream",
     "text": [
      "[[1 0 0]\n",
      " [0 0 1]\n",
      " [1 0 0]] True\n"
     ]
    }
   ],
   "source": [
    "\n",
    "import scipy.sparse\n",
    "from scipy.sparse import issparse,csr_matrix,csc_matrix ,bsr_matrix,\\\n",
    "isspmatrix_csc,isspmatrix_csr ,rand ,kronsum ,block_diag ,bmat\n",
    "\n",
    "A=bsr_matrix([[1, 0,0], [0,0, 1],[1,0, 0]])\n",
    "print(A.todense(),issparse(A)) \n"
   ]
  },
  {
   "cell_type": "code",
   "execution_count": 6,
   "metadata": {},
   "outputs": [],
   "source": [
    "row = np.array([0, 0, 1, 2])\n",
    "col = np.array([0, 2, 2, 2])\n",
    "data = np.array([1, 4, 5, 6])"
   ]
  },
  {
   "cell_type": "code",
   "execution_count": 7,
   "metadata": {},
   "outputs": [
    {
     "name": "stdout",
     "output_type": "stream",
     "text": [
      "[[1 0 4]\n",
      " [0 0 5]\n",
      " [0 0 6]] True\n"
     ]
    }
   ],
   "source": [
    "B=csc_matrix((data, (row, col)), shape=(3, 3))  \n",
    "print(B.todense(),isspmatrix_csc(B))"
   ]
  },
  {
   "cell_type": "code",
   "execution_count": 8,
   "metadata": {},
   "outputs": [
    {
     "name": "stdout",
     "output_type": "stream",
     "text": [
      "[[1 0 4]\n",
      " [0 0 5]\n",
      " [0 0 6]] True\n"
     ]
    }
   ],
   "source": [
    "C=csr_matrix((data, (row, col)), shape=(3, 3))  \n",
    "print(C.todense(),isspmatrix_csr(C))"
   ]
  },
  {
   "cell_type": "code",
   "execution_count": 9,
   "metadata": {},
   "outputs": [
    {
     "name": "stdout",
     "output_type": "stream",
     "text": [
      "[[0.05641158 0.         0.         0.65088847]\n",
      " [0.         0.         0.         0.14286682]\n",
      " [0.         0.         0.         0.        ]]\n"
     ]
    }
   ],
   "source": [
    "matrix = rand(3, 4, density=0.25, format=\"csr\", random_state=42)\n",
    "print(matrix.todense())"
   ]
  },
  {
   "cell_type": "code",
   "execution_count": 10,
   "metadata": {},
   "outputs": [
    {
     "name": "stdout",
     "output_type": "stream",
     "text": [
      "[[2 0 0 0 0 0 4 0 0]\n",
      " [0 1 1 0 0 0 0 4 0]\n",
      " [1 0 1 0 0 0 0 0 4]\n",
      " [0 0 0 1 0 0 5 0 0]\n",
      " [0 0 0 0 0 1 0 5 0]\n",
      " [0 0 0 1 0 0 0 0 5]\n",
      " [0 0 0 0 0 0 7 0 0]\n",
      " [0 0 0 0 0 0 0 6 1]\n",
      " [0 0 0 0 0 0 1 0 6]]\n"
     ]
    }
   ],
   "source": [
    "D=kronsum(A,B)\n",
    "print(D.todense())"
   ]
  },
  {
   "cell_type": "code",
   "execution_count": 11,
   "metadata": {},
   "outputs": [
    {
     "name": "stdout",
     "output_type": "stream",
     "text": [
      "[[1 0 0 0 0 0 0 0 0]\n",
      " [0 0 1 0 0 0 0 0 0]\n",
      " [1 0 0 0 0 0 0 0 0]\n",
      " [0 0 0 1 0 4 0 0 0]\n",
      " [0 0 0 0 0 5 0 0 0]\n",
      " [0 0 0 0 0 6 0 0 0]\n",
      " [0 0 0 0 0 0 1 0 4]\n",
      " [0 0 0 0 0 0 0 0 5]\n",
      " [0 0 0 0 0 0 0 0 6]]\n"
     ]
    }
   ],
   "source": [
    "E=block_diag((A, B, C))\n",
    "print(E.todense())"
   ]
  },
  {
   "cell_type": "code",
   "execution_count": 12,
   "metadata": {},
   "outputs": [
    {
     "name": "stdout",
     "output_type": "stream",
     "text": [
      "[[1 0 0 1 0 4]\n",
      " [0 0 1 0 0 5]\n",
      " [1 0 0 0 0 6]\n",
      " [0 0 0 1 0 4]\n",
      " [0 0 0 0 0 5]\n",
      " [0 0 0 0 0 6]]\n",
      "[[1 0 0]\n",
      " [0 0 1]\n",
      " [1 0 0]\n",
      " [1 0 4]\n",
      " [0 0 5]\n",
      " [0 0 6]]\n",
      "[[1 0 0 0 0 0]\n",
      " [0 0 1 0 0 0]\n",
      " [1 0 0 0 0 0]\n",
      " [0 0 0 1 0 4]\n",
      " [0 0 0 0 0 5]\n",
      " [0 0 0 0 0 6]]\n"
     ]
    }
   ],
   "source": [
    "F=bmat([[A, B], [None, C]])\n",
    "print(F.todense())\n",
    "F=bmat([[A, None], [C, None]])\n",
    "print(F.todense())\n",
    "F=bmat([[A, None], [None, C]])\n",
    "print(F.todense())"
   ]
  },
  {
   "cell_type": "code",
   "execution_count": null,
   "metadata": {},
   "outputs": [],
   "source": []
  }
 ],
 "metadata": {
  "kernelspec": {
   "display_name": "Python 3",
   "language": "python",
   "name": "python3"
  },
  "language_info": {
   "codemirror_mode": {
    "name": "ipython",
    "version": 3
   },
   "file_extension": ".py",
   "mimetype": "text/x-python",
   "name": "python",
   "nbconvert_exporter": "python",
   "pygments_lexer": "ipython3",
   "version": "3.8.5"
  }
 },
 "nbformat": 4,
 "nbformat_minor": 4
}
