{
 "cells": [
  {
   "cell_type": "markdown",
   "metadata": {},
   "source": [
    "Aditya Aggarwal 18803011 B13"
   ]
  },
  {
   "cell_type": "code",
   "execution_count": 1,
   "metadata": {},
   "outputs": [],
   "source": [
    "import numpy as np "
   ]
  },
  {
   "cell_type": "code",
   "execution_count": 2,
   "metadata": {},
   "outputs": [
    {
     "name": "stdout",
     "output_type": "stream",
     "text": [
      "[10 11 12 13 14 15 16 17 18 19 20 21 22 23 24 25 26 27 28 29 30 31 32 33\n",
      " 34 35 36 37 38 39 40 41 42 43 44 45 46 47 48 49]\n"
     ]
    }
   ],
   "source": [
    "Z = np.arange(10,50)\n",
    "print(Z)"
   ]
  },
  {
   "cell_type": "code",
   "execution_count": 3,
   "metadata": {},
   "outputs": [
    {
     "name": "stdout",
     "output_type": "stream",
     "text": [
      "[49 48 47 46 45 44 43 42 41 40 39 38 37 36 35 34 33 32 31 30 29 28 27 26\n",
      " 25 24 23 22 21 20 19 18 17 16 15 14 13 12 11 10  9  8  7  6  5  4  3  2\n",
      "  1  0]\n"
     ]
    }
   ],
   "source": [
    "Z = np.arange(50) \n",
    "Z = Z[::-1] \n",
    "print(Z)"
   ]
  },
  {
   "cell_type": "code",
   "execution_count": 4,
   "metadata": {},
   "outputs": [
    {
     "name": "stdout",
     "output_type": "stream",
     "text": [
      "[[0 1 2]\n",
      " [3 4 5]\n",
      " [6 7 8]]\n"
     ]
    }
   ],
   "source": [
    "Z = np.arange(9).reshape(3,3) \n",
    "print(Z)"
   ]
  },
  {
   "cell_type": "code",
   "execution_count": 5,
   "metadata": {},
   "outputs": [
    {
     "name": "stdout",
     "output_type": "stream",
     "text": [
      "(array([0, 1, 4], dtype=int64),)\n"
     ]
    }
   ],
   "source": [
    "nz = np.nonzero([1,2,0,0,4,0]) \n",
    "print(nz)"
   ]
  },
  {
   "cell_type": "code",
   "execution_count": 6,
   "metadata": {},
   "outputs": [
    {
     "name": "stdout",
     "output_type": "stream",
     "text": [
      "[[1. 0. 0.]\n",
      " [0. 1. 0.]\n",
      " [0. 0. 1.]]\n"
     ]
    }
   ],
   "source": [
    "Z = np.eye(3) \n",
    "print(Z)"
   ]
  },
  {
   "cell_type": "code",
   "execution_count": 7,
   "metadata": {},
   "outputs": [
    {
     "name": "stdout",
     "output_type": "stream",
     "text": [
      "[[1.11631972e+00 1.90763477e+00 4.86501812e-01 2.03064057e+00\n",
      "  5.61528568e+00 2.83326983e+00 4.45666655e+00 3.78741600e-01\n",
      "  8.88381771e+00 8.95398446e+00]\n",
      " [2.63547653e+00 1.13691094e+00 3.93641412e+00 6.49104403e-01\n",
      "  3.14785182e+00 5.77019269e+00 8.80600776e+00 9.59822381e+00\n",
      "  1.56488028e+00 6.93323759e+00]\n",
      " [2.68183621e+00 8.88560155e-01 4.88217868e+00 4.98116825e+00\n",
      "  7.45374156e+00 1.42445694e-01 6.40429465e+00 1.39830120e+00\n",
      "  8.12915231e+00 8.81174814e+00]\n",
      " [3.20499526e+00 2.71522632e-01 6.49671988e+00 3.51792986e+00\n",
      "  2.79290889e+00 7.94156708e+00 4.43581183e+00 7.20985773e+00\n",
      "  7.36525132e+00 8.35524133e+00]\n",
      " [8.75902723e+00 7.78159019e-01 9.26694928e+00 7.10329034e+00\n",
      "  7.74329292e+00 5.80106537e+00 3.21411242e+00 7.80523178e+00\n",
      "  8.94869370e+00 2.46844479e+00]\n",
      " [5.70887294e+00 7.13525837e+00 1.69598493e+00 6.81033106e+00\n",
      "  6.58496583e+00 2.46804925e+00 5.60894237e+00 8.19765130e+00\n",
      "  9.34219407e+00 4.42059430e+00]\n",
      " [2.85625952e+00 6.30470204e+00 4.31898259e+00 9.96788160e+00\n",
      "  8.08728817e+00 4.53921436e+00 8.02312762e+00 1.56208965e+00\n",
      "  8.56722188e+00 9.24339047e+00]\n",
      " [6.41056382e+00 3.11363940e-04 4.96488113e+00 6.60869515e-01\n",
      "  6.97883580e+00 9.01152818e+00 1.77793226e+00 7.69776618e+00\n",
      "  4.13337801e+00 1.76666723e+00]\n",
      " [1.13043933e+00 4.84277238e+00 4.01930420e+00 7.84129847e+00\n",
      "  2.52699808e+00 7.64223207e+00 8.10586857e+00 8.84186120e+00\n",
      "  9.49744051e+00 9.06734129e+00]\n",
      " [6.44925828e+00 1.07319100e+00 8.38771851e+00 2.57459847e+00\n",
      "  6.78071767e+00 3.25238109e+00 3.92335123e+00 7.78533719e+00\n",
      "  8.44660081e+00 4.41775006e+00]]\n",
      "0.00031136394023967284 9.967881604967888\n"
     ]
    }
   ],
   "source": [
    "Z = np.random.random((10,10)) *10\n",
    "Zmin, Zmax = Z.min(), Z.max() \n",
    "print(Z)\n",
    "print(Zmin, Zmax) "
   ]
  },
  {
   "cell_type": "code",
   "execution_count": 8,
   "metadata": {},
   "outputs": [
    {
     "name": "stdout",
     "output_type": "stream",
     "text": [
      "[6.67089407 7.1876902  7.9663225  9.99304946 6.45835364 4.10905047\n",
      " 1.70859861 5.55231752 1.32079781 0.27687348 8.17855041 5.03847817\n",
      " 0.67605257 7.56128428 2.58244492 8.43804561 4.1387201  3.02604848\n",
      " 1.2248509  1.79252959 6.50590429 9.31172098 3.13998632 1.95088922\n",
      " 2.85038293 1.93230272 5.85191226 4.17259052 5.13293057 1.59926574]\n",
      "4.544961277669169\n"
     ]
    }
   ],
   "source": [
    "Z = np.random.random(30) *10\n",
    "m = Z.mean()\n",
    "print(Z)\n",
    "print(m) \n"
   ]
  },
  {
   "cell_type": "code",
   "execution_count": 9,
   "metadata": {},
   "outputs": [
    {
     "name": "stdout",
     "output_type": "stream",
     "text": [
      "[[1. 1. 1. 1. 1. 1. 1. 1. 1. 1.]\n",
      " [1. 0. 0. 0. 0. 0. 0. 0. 0. 1.]\n",
      " [1. 0. 0. 0. 0. 0. 0. 0. 0. 1.]\n",
      " [1. 0. 0. 0. 0. 0. 0. 0. 0. 1.]\n",
      " [1. 0. 0. 0. 0. 0. 0. 0. 0. 1.]\n",
      " [1. 0. 0. 0. 0. 0. 0. 0. 0. 1.]\n",
      " [1. 0. 0. 0. 0. 0. 0. 0. 0. 1.]\n",
      " [1. 0. 0. 0. 0. 0. 0. 0. 0. 1.]\n",
      " [1. 0. 0. 0. 0. 0. 0. 0. 0. 1.]\n",
      " [1. 1. 1. 1. 1. 1. 1. 1. 1. 1.]]\n"
     ]
    }
   ],
   "source": [
    "Z = np.ones((10,10)) \n",
    "Z[1:-1,1:-1] = 0 \n",
    "print(Z) \n"
   ]
  },
  {
   "cell_type": "code",
   "execution_count": 10,
   "metadata": {},
   "outputs": [
    {
     "name": "stdout",
     "output_type": "stream",
     "text": [
      "[[0. 0. 0. 0. 0. 0. 0.]\n",
      " [0. 1. 1. 1. 1. 1. 0.]\n",
      " [0. 1. 1. 1. 1. 1. 0.]\n",
      " [0. 1. 1. 1. 1. 1. 0.]\n",
      " [0. 1. 1. 1. 1. 1. 0.]\n",
      " [0. 1. 1. 1. 1. 1. 0.]\n",
      " [0. 0. 0. 0. 0. 0. 0.]]\n"
     ]
    }
   ],
   "source": [
    "Z = np.ones((5,5)) \n",
    "Z = np.pad(Z, pad_width=1, mode='constant',  \n",
    "constant_values=0) \n",
    "print(Z) \n"
   ]
  },
  {
   "cell_type": "code",
   "execution_count": 11,
   "metadata": {},
   "outputs": [
    {
     "name": "stdout",
     "output_type": "stream",
     "text": [
      "[[3. 3.]\n",
      " [3. 3.]\n",
      " [3. 3.]\n",
      " [3. 3.]\n",
      " [3. 3.]]\n"
     ]
    }
   ],
   "source": [
    "Z = np.dot(np.ones((5,3)), np.ones((3,2))) \n",
    "print(Z) \n"
   ]
  },
  {
   "cell_type": "code",
   "execution_count": 12,
   "metadata": {},
   "outputs": [
    {
     "name": "stdout",
     "output_type": "stream",
     "text": [
      "[ 0  1  2  3 -4 -5 -6 -7 -8  9 10]\n"
     ]
    }
   ],
   "source": [
    "Z = np.arange(11) \n",
    "Z[(3 < Z) & (Z <= 8)] *= -1 \n",
    "print(Z) \n"
   ]
  },
  {
   "cell_type": "code",
   "execution_count": 13,
   "metadata": {},
   "outputs": [
    {
     "name": "stdout",
     "output_type": "stream",
     "text": [
      "[1 4 8]\n"
     ]
    }
   ],
   "source": [
    "Z1 = np.random.randint(0,10,10) \n",
    "Z2 = np.random.randint(0,10,10) \n",
    "print(np.intersect1d(Z1,Z2)) \n"
   ]
  },
  {
   "cell_type": "code",
   "execution_count": 14,
   "metadata": {},
   "outputs": [
    {
     "name": "stdout",
     "output_type": "stream",
     "text": [
      "2021-06-06\n",
      "2021-06-07\n",
      "2021-06-08\n"
     ]
    }
   ],
   "source": [
    "yesterday = np.datetime64('today', 'D') - np.timedelta64(1, 'D') \n",
    "print(yesterday)\n",
    "today = np.datetime64('today', 'D') \n",
    "print(today)\n",
    "tomorrow = np.datetime64('today', 'D') + np.timedelta64(1, 'D') \n",
    "print(tomorrow)"
   ]
  },
  {
   "cell_type": "code",
   "execution_count": 15,
   "metadata": {},
   "outputs": [
    {
     "name": "stdout",
     "output_type": "stream",
     "text": [
      "['2016-07-01' '2016-07-02' '2016-07-03' '2016-07-04' '2016-07-05'\n",
      " '2016-07-06' '2016-07-07' '2016-07-08' '2016-07-09' '2016-07-10'\n",
      " '2016-07-11' '2016-07-12' '2016-07-13' '2016-07-14' '2016-07-15'\n",
      " '2016-07-16' '2016-07-17' '2016-07-18' '2016-07-19' '2016-07-20'\n",
      " '2016-07-21' '2016-07-22' '2016-07-23' '2016-07-24' '2016-07-25'\n",
      " '2016-07-26' '2016-07-27' '2016-07-28' '2016-07-29' '2016-07-30'\n",
      " '2016-07-31']\n"
     ]
    }
   ],
   "source": [
    "Z = np.arange('2016-07', '2016-08', dtype='datetime64[D]') \n",
    "print(Z) \n"
   ]
  },
  {
   "cell_type": "code",
   "execution_count": 16,
   "metadata": {},
   "outputs": [
    {
     "name": "stdout",
     "output_type": "stream",
     "text": [
      "[0 0 0 1 1]\n",
      "[0 0 1 1 1]\n",
      "False\n",
      "False\n"
     ]
    }
   ],
   "source": [
    "A = np.random.randint(0,2,5) \n",
    "B = np.random.randint(0,2,5)  \n",
    "print(A)\n",
    "print(B)\n",
    "equal = np.allclose(A,B) \n",
    "print(equal) \n",
    "equal = np.array_equal(A,B) \n",
    "print(equal) \n"
   ]
  },
  {
   "cell_type": "code",
   "execution_count": 17,
   "metadata": {},
   "outputs": [
    {
     "name": "stdout",
     "output_type": "stream",
     "text": [
      "[0.77460634 0.66215547 0.72178612 0.35267552 0.36744002 0.45847738\n",
      " 0.38238093 0.58355993 0.25022149 0.91089269]\n",
      "[0.77460634 0.66215547 0.72178612 0.35267552 0.36744002 0.45847738\n",
      " 0.38238093 0.58355993 0.25022149 0.        ]\n"
     ]
    }
   ],
   "source": [
    "Z = np.random.random(10) \n",
    "print(Z)\n",
    "Z[Z.argmax()] = 0\n",
    "print(Z)"
   ]
  },
  {
   "cell_type": "markdown",
   "metadata": {},
   "source": [
    "# Practice Questions"
   ]
  },
  {
   "cell_type": "code",
   "execution_count": 18,
   "metadata": {},
   "outputs": [
    {
     "name": "stdout",
     "output_type": "stream",
     "text": [
      "1.19.2\n",
      "[[ 1  5]\n",
      " [ 2  3]\n",
      " [ 5  1]\n",
      " [25  1]]\n"
     ]
    }
   ],
   "source": [
    "#Q1\n",
    "print(np.__version__)\n",
    "x = np.array([1,1,1,2,2,2,5,25,1,1])\n",
    "unique, counts = np.unique(x, return_counts=True)\n",
    "print (np.asarray((unique, counts)).T)"
   ]
  },
  {
   "cell_type": "code",
   "execution_count": 19,
   "metadata": {},
   "outputs": [
    {
     "name": "stdout",
     "output_type": "stream",
     "text": [
      "[1. 1. 1. 1. 1. 1. 0. 0. 0. 0. 0.]\n"
     ]
    }
   ],
   "source": [
    "#Q2\n",
    "s= \"11100110010\"\n",
    "a=np.char.count(s,'1')\n",
    "x=np.ones(len(s))\n",
    "x[a:]=0\n",
    "print(x)"
   ]
  },
  {
   "cell_type": "code",
   "execution_count": 20,
   "metadata": {},
   "outputs": [
    {
     "name": "stdout",
     "output_type": "stream",
     "text": [
      "dsglerhe\n"
     ]
    }
   ],
   "source": [
    "#Q3\n",
    "index=2\n",
    "s=\"dslglerhe\"\n",
    "s=s[:index]+s[index+1:]\n",
    "print(s)"
   ]
  },
  {
   "cell_type": "code",
   "execution_count": 21,
   "metadata": {},
   "outputs": [
    {
     "name": "stdout",
     "output_type": "stream",
     "text": [
      "[[1. 1. 1.]\n",
      " [1. 1. 1.]\n",
      " [1. 1. 1.]]\n",
      "[[0. 0. 0. 0. 0.]\n",
      " [0. 1. 1. 1. 0.]\n",
      " [0. 1. 1. 1. 0.]\n",
      " [0. 1. 1. 1. 0.]\n",
      " [0. 0. 0. 0. 0.]]\n"
     ]
    }
   ],
   "source": [
    "#Q4\n",
    "Z = np.ones((3,3))\n",
    "print(Z)\n",
    "Z = np.pad(Z, pad_width=1, mode='constant',  \n",
    "constant_values=0) \n",
    "print(Z) "
   ]
  },
  {
   "cell_type": "code",
   "execution_count": 22,
   "metadata": {},
   "outputs": [
    {
     "name": "stdout",
     "output_type": "stream",
     "text": [
      "[ True False False  True False]\n"
     ]
    }
   ],
   "source": [
    "#Q5\n",
    "a=[ 0, 10, 20, 40, 60] \n",
    "b=[0,40]\n",
    "print(np.isin(a,b))"
   ]
  },
  {
   "cell_type": "code",
   "execution_count": 23,
   "metadata": {},
   "outputs": [
    {
     "name": "stdout",
     "output_type": "stream",
     "text": [
      "[ 0 20 30 50 60 70 80]\n"
     ]
    }
   ],
   "source": [
    "#Q6\n",
    "arr1=[ 0, 10, 20, 40, 60, 80]\n",
    "arr2=[10, 30, 40, 50, 70]  \n",
    "print(np.setxor1d(arr1, arr2))"
   ]
  },
  {
   "cell_type": "code",
   "execution_count": 24,
   "metadata": {},
   "outputs": [
    {
     "name": "stdout",
     "output_type": "stream",
     "text": [
      "[[1 2]\n",
      " [2 3]\n",
      " [3 4]]\n"
     ]
    }
   ],
   "source": [
    "#Q7\n",
    "a = np.array([1, 2, 3])\n",
    "b = np.array([2, 3, 4])\n",
    "print(np.column_stack((a,b)))"
   ]
  },
  {
   "cell_type": "code",
   "execution_count": 25,
   "metadata": {},
   "outputs": [
    {
     "name": "stdout",
     "output_type": "stream",
     "text": [
      "[[0 1]\n",
      " [2 3]]\n",
      "3\n",
      "-2.0\n",
      "2\n"
     ]
    }
   ],
   "source": [
    "#Q8\n",
    "a = np.arange(4).reshape((2,2))\n",
    "print(a)\n",
    "print(np.trace(a))\n",
    "print(np.linalg.det(a))\n",
    "print(np.linalg.matrix_rank(a))"
   ]
  },
  {
   "cell_type": "code",
   "execution_count": null,
   "metadata": {},
   "outputs": [],
   "source": []
  }
 ],
 "metadata": {
  "kernelspec": {
   "display_name": "Python 3",
   "language": "python",
   "name": "python3"
  },
  "language_info": {
   "codemirror_mode": {
    "name": "ipython",
    "version": 3
   },
   "file_extension": ".py",
   "mimetype": "text/x-python",
   "name": "python",
   "nbconvert_exporter": "python",
   "pygments_lexer": "ipython3",
   "version": "3.8.5"
  }
 },
 "nbformat": 4,
 "nbformat_minor": 4
}
