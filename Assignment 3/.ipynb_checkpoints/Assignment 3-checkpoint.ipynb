{
 "cells": [
  {
   "cell_type": "markdown",
   "metadata": {},
   "source": [
    "Aditya Aggarwal 18803011 B13"
   ]
  },
  {
   "cell_type": "code",
   "execution_count": 1,
   "metadata": {},
   "outputs": [],
   "source": [
    "import numpy as np "
   ]
  },
  {
   "cell_type": "code",
   "execution_count": 2,
   "metadata": {},
   "outputs": [
    {
     "name": "stdout",
     "output_type": "stream",
     "text": [
      "[10 11 12 13 14 15 16 17 18 19 20 21 22 23 24 25 26 27 28 29 30 31 32 33\n",
      " 34 35 36 37 38 39 40 41 42 43 44 45 46 47 48 49]\n"
     ]
    }
   ],
   "source": [
    "Z = np.arange(10,50)\n",
    "print(Z)"
   ]
  },
  {
   "cell_type": "code",
   "execution_count": 3,
   "metadata": {},
   "outputs": [
    {
     "name": "stdout",
     "output_type": "stream",
     "text": [
      "[49 48 47 46 45 44 43 42 41 40 39 38 37 36 35 34 33 32 31 30 29 28 27 26\n",
      " 25 24 23 22 21 20 19 18 17 16 15 14 13 12 11 10  9  8  7  6  5  4  3  2\n",
      "  1  0]\n"
     ]
    }
   ],
   "source": [
    "Z = np.arange(50) \n",
    "Z = Z[::-1] \n",
    "print(Z)"
   ]
  },
  {
   "cell_type": "code",
   "execution_count": 4,
   "metadata": {},
   "outputs": [
    {
     "name": "stdout",
     "output_type": "stream",
     "text": [
      "[[0 1 2]\n",
      " [3 4 5]\n",
      " [6 7 8]]\n"
     ]
    }
   ],
   "source": [
    "Z = np.arange(9).reshape(3,3) \n",
    "print(Z)"
   ]
  },
  {
   "cell_type": "code",
   "execution_count": 5,
   "metadata": {},
   "outputs": [
    {
     "name": "stdout",
     "output_type": "stream",
     "text": [
      "(array([0, 1, 4], dtype=int64),)\n"
     ]
    }
   ],
   "source": [
    "nz = np.nonzero([1,2,0,0,4,0]) \n",
    "print(nz)"
   ]
  },
  {
   "cell_type": "code",
   "execution_count": 6,
   "metadata": {},
   "outputs": [
    {
     "name": "stdout",
     "output_type": "stream",
     "text": [
      "[[1. 0. 0.]\n",
      " [0. 1. 0.]\n",
      " [0. 0. 1.]]\n"
     ]
    }
   ],
   "source": [
    "Z = np.eye(3) \n",
    "print(Z)"
   ]
  },
  {
   "cell_type": "code",
   "execution_count": 7,
   "metadata": {},
   "outputs": [
    {
     "name": "stdout",
     "output_type": "stream",
     "text": [
      "[[5.29057609 0.43584312 1.00727954 9.67935486 9.90405929 8.98093514\n",
      "  5.69462356 9.36426883 3.65662536 2.77527653]\n",
      " [0.3499707  5.70496538 5.49595108 6.30155973 0.96633922 6.9342299\n",
      "  3.24275838 0.95962682 6.08904343 6.74428115]\n",
      " [4.83681371 7.90197494 8.99980865 7.12480707 7.32413393 0.08323417\n",
      "  0.62566739 9.21123229 9.9082485  9.79463756]\n",
      " [3.35757498 5.87623322 7.74073295 5.65099439 1.3166751  7.14860185\n",
      "  2.43083244 9.77096112 2.55399247 8.80958268]\n",
      " [3.43671406 7.52018855 2.34856036 1.92941596 4.25026862 7.03701473\n",
      "  5.07514619 5.40704189 5.5147177  3.39294243]\n",
      " [0.83796613 2.45567771 2.1176627  7.47790594 7.39914554 2.7199799\n",
      "  8.0560582  9.29523163 7.75337768 2.68927683]\n",
      " [6.6117446  9.86397611 0.14204241 0.4059698  5.33328387 2.06656341\n",
      "  1.35607357 3.88586473 7.4957085  9.14185909]\n",
      " [3.57585728 0.1337794  8.28595788 8.2317658  5.61312985 5.31872413\n",
      "  5.16008469 2.15199086 7.65540765 5.75024372]\n",
      " [9.83200962 2.96785439 0.12531852 1.91283232 5.53899579 5.18839805\n",
      "  0.35073406 8.91857566 3.48295749 3.46844455]\n",
      " [1.02450597 1.18267191 2.18597199 8.81031674 6.64283249 5.33576443\n",
      "  8.91560159 8.65542586 5.26402507 5.75209741]]\n",
      "0.0832341710282114 9.90824849862195\n"
     ]
    }
   ],
   "source": [
    "Z = np.random.random((10,10)) *10\n",
    "Zmin, Zmax = Z.min(), Z.max() \n",
    "print(Z)\n",
    "print(Zmin, Zmax) "
   ]
  },
  {
   "cell_type": "code",
   "execution_count": 8,
   "metadata": {},
   "outputs": [
    {
     "name": "stdout",
     "output_type": "stream",
     "text": [
      "[5.72670104 9.18352278 9.95485836 8.65154081 1.1356434  8.89964083\n",
      " 8.30024742 0.7544284  8.37869595 1.70510026 0.74281135 1.33168717\n",
      " 0.53487496 1.8369109  4.09451399 0.63750637 5.27945353 8.376349\n",
      " 7.90540435 5.58232114 2.4299     6.82034973 2.30279648 5.95322691\n",
      " 2.72908038 9.43063379 7.91342345 2.60087699 5.0729574  2.35448573]\n",
      "4.887331428671213\n"
     ]
    }
   ],
   "source": [
    "Z = np.random.random(30) *10\n",
    "m = Z.mean()\n",
    "print(Z)\n",
    "print(m) \n"
   ]
  },
  {
   "cell_type": "code",
   "execution_count": 9,
   "metadata": {},
   "outputs": [
    {
     "name": "stdout",
     "output_type": "stream",
     "text": [
      "[[1. 1. 1. 1. 1. 1. 1. 1. 1. 1.]\n",
      " [1. 0. 0. 0. 0. 0. 0. 0. 0. 1.]\n",
      " [1. 0. 0. 0. 0. 0. 0. 0. 0. 1.]\n",
      " [1. 0. 0. 0. 0. 0. 0. 0. 0. 1.]\n",
      " [1. 0. 0. 0. 0. 0. 0. 0. 0. 1.]\n",
      " [1. 0. 0. 0. 0. 0. 0. 0. 0. 1.]\n",
      " [1. 0. 0. 0. 0. 0. 0. 0. 0. 1.]\n",
      " [1. 0. 0. 0. 0. 0. 0. 0. 0. 1.]\n",
      " [1. 0. 0. 0. 0. 0. 0. 0. 0. 1.]\n",
      " [1. 1. 1. 1. 1. 1. 1. 1. 1. 1.]]\n"
     ]
    }
   ],
   "source": [
    "Z = np.ones((10,10)) \n",
    "Z[1:-1,1:-1] = 0 \n",
    "print(Z) \n"
   ]
  },
  {
   "cell_type": "code",
   "execution_count": 10,
   "metadata": {},
   "outputs": [
    {
     "name": "stdout",
     "output_type": "stream",
     "text": [
      "[[0. 0. 0. 0. 0. 0. 0.]\n",
      " [0. 1. 1. 1. 1. 1. 0.]\n",
      " [0. 1. 1. 1. 1. 1. 0.]\n",
      " [0. 1. 1. 1. 1. 1. 0.]\n",
      " [0. 1. 1. 1. 1. 1. 0.]\n",
      " [0. 1. 1. 1. 1. 1. 0.]\n",
      " [0. 0. 0. 0. 0. 0. 0.]]\n"
     ]
    }
   ],
   "source": [
    "Z = np.ones((5,5)) \n",
    "Z = np.pad(Z, pad_width=1, mode='constant',  \n",
    "constant_values=0) \n",
    "print(Z) \n"
   ]
  },
  {
   "cell_type": "code",
   "execution_count": 11,
   "metadata": {},
   "outputs": [
    {
     "name": "stdout",
     "output_type": "stream",
     "text": [
      "[[3. 3.]\n",
      " [3. 3.]\n",
      " [3. 3.]\n",
      " [3. 3.]\n",
      " [3. 3.]]\n"
     ]
    }
   ],
   "source": [
    "Z = np.dot(np.ones((5,3)), np.ones((3,2))) \n",
    "print(Z) \n"
   ]
  },
  {
   "cell_type": "code",
   "execution_count": 12,
   "metadata": {},
   "outputs": [
    {
     "name": "stdout",
     "output_type": "stream",
     "text": [
      "[ 0  1  2  3 -4 -5 -6 -7 -8  9 10]\n"
     ]
    }
   ],
   "source": [
    "Z = np.arange(11) \n",
    "Z[(3 < Z) & (Z <= 8)] *= -1 \n",
    "print(Z) \n"
   ]
  },
  {
   "cell_type": "code",
   "execution_count": 13,
   "metadata": {},
   "outputs": [
    {
     "name": "stdout",
     "output_type": "stream",
     "text": [
      "[0 1 3 4 7]\n"
     ]
    }
   ],
   "source": [
    "Z1 = np.random.randint(0,10,10) \n",
    "Z2 = np.random.randint(0,10,10) \n",
    "print(np.intersect1d(Z1,Z2)) \n"
   ]
  },
  {
   "cell_type": "code",
   "execution_count": 14,
   "metadata": {},
   "outputs": [
    {
     "name": "stdout",
     "output_type": "stream",
     "text": [
      "2021-06-06\n",
      "2021-06-07\n",
      "2021-06-08\n"
     ]
    }
   ],
   "source": [
    "yesterday = np.datetime64('today', 'D') - np.timedelta64(1, 'D') \n",
    "print(yesterday)\n",
    "today = np.datetime64('today', 'D') \n",
    "print(today)\n",
    "tomorrow = np.datetime64('today', 'D') + np.timedelta64(1, 'D') \n",
    "print(tomorrow)"
   ]
  },
  {
   "cell_type": "code",
   "execution_count": 15,
   "metadata": {},
   "outputs": [
    {
     "name": "stdout",
     "output_type": "stream",
     "text": [
      "['2016-07-01' '2016-07-02' '2016-07-03' '2016-07-04' '2016-07-05'\n",
      " '2016-07-06' '2016-07-07' '2016-07-08' '2016-07-09' '2016-07-10'\n",
      " '2016-07-11' '2016-07-12' '2016-07-13' '2016-07-14' '2016-07-15'\n",
      " '2016-07-16' '2016-07-17' '2016-07-18' '2016-07-19' '2016-07-20'\n",
      " '2016-07-21' '2016-07-22' '2016-07-23' '2016-07-24' '2016-07-25'\n",
      " '2016-07-26' '2016-07-27' '2016-07-28' '2016-07-29' '2016-07-30'\n",
      " '2016-07-31']\n"
     ]
    }
   ],
   "source": [
    "Z = np.arange('2016-07', '2016-08', dtype='datetime64[D]') \n",
    "print(Z) \n"
   ]
  },
  {
   "cell_type": "code",
   "execution_count": 16,
   "metadata": {},
   "outputs": [
    {
     "name": "stdout",
     "output_type": "stream",
     "text": [
      "[0 0 0 1 0]\n",
      "[1 1 1 0 1]\n",
      "False\n",
      "False\n"
     ]
    }
   ],
   "source": [
    "A = np.random.randint(0,2,5) \n",
    "B = np.random.randint(0,2,5)  \n",
    "print(A)\n",
    "print(B)\n",
    "equal = np.allclose(A,B) \n",
    "print(equal) \n",
    "equal = np.array_equal(A,B) \n",
    "print(equal) \n"
   ]
  },
  {
   "cell_type": "code",
   "execution_count": 17,
   "metadata": {},
   "outputs": [
    {
     "name": "stdout",
     "output_type": "stream",
     "text": [
      "[0.46829554 0.34808625 0.19505756 0.93254842 0.91488109 0.39024478\n",
      " 0.02657393 0.1178271  0.5722051  0.43717429]\n",
      "[0.46829554 0.34808625 0.19505756 0.         0.91488109 0.39024478\n",
      " 0.02657393 0.1178271  0.5722051  0.43717429]\n"
     ]
    }
   ],
   "source": [
    "Z = np.random.random(10) \n",
    "print(Z)\n",
    "Z[Z.argmax()] = 0\n",
    "print(Z)"
   ]
  },
  {
   "cell_type": "markdown",
   "metadata": {},
   "source": [
    "# Practice Questions"
   ]
  },
  {
   "cell_type": "code",
   "execution_count": 25,
   "metadata": {},
   "outputs": [
    {
     "name": "stdout",
     "output_type": "stream",
     "text": [
      "1.19.2\n",
      "[[ 1  5]\n",
      " [ 2  3]\n",
      " [ 5  1]\n",
      " [25  1]]\n"
     ]
    }
   ],
   "source": [
    "#Q1\n",
    "print(np.__version__)\n",
    "x = np.array([1,1,1,2,2,2,5,25,1,1])\n",
    "unique, counts = np.unique(x, return_counts=True)\n",
    "print (np.asarray((unique, counts)).T)"
   ]
  },
  {
   "cell_type": "code",
   "execution_count": 36,
   "metadata": {},
   "outputs": [
    {
     "name": "stdout",
     "output_type": "stream",
     "text": [
      "[1. 1. 1. 1. 1. 1. 0. 0. 0. 0. 0.]\n"
     ]
    }
   ],
   "source": [
    "#Q2\n",
    "s= \"11100110010\"\n",
    "a=np.char.count(s,'1')\n",
    "x=np.ones(len(s))\n",
    "x[a:]=0\n",
    "print(x)"
   ]
  },
  {
   "cell_type": "code",
   "execution_count": 41,
   "metadata": {},
   "outputs": [
    {
     "name": "stdout",
     "output_type": "stream",
     "text": [
      "dsglerhe\n"
     ]
    }
   ],
   "source": [
    "#Q3\n",
    "index=2\n",
    "s=\"dslglerhe\"\n",
    "s=s[:index]+s[index+1:]\n",
    "print(s)"
   ]
  },
  {
   "cell_type": "code",
   "execution_count": 30,
   "metadata": {},
   "outputs": [
    {
     "name": "stdout",
     "output_type": "stream",
     "text": [
      "[[1. 1. 1.]\n",
      " [1. 1. 1.]\n",
      " [1. 1. 1.]]\n",
      "[[0. 0. 0. 0. 0.]\n",
      " [0. 1. 1. 1. 0.]\n",
      " [0. 1. 1. 1. 0.]\n",
      " [0. 1. 1. 1. 0.]\n",
      " [0. 0. 0. 0. 0.]]\n"
     ]
    }
   ],
   "source": [
    "#Q4\n",
    "Z = np.ones((3,3))\n",
    "print(Z)\n",
    "Z = np.pad(Z, pad_width=1, mode='constant',  \n",
    "constant_values=0) \n",
    "print(Z) "
   ]
  },
  {
   "cell_type": "code",
   "execution_count": 42,
   "metadata": {},
   "outputs": [
    {
     "name": "stdout",
     "output_type": "stream",
     "text": [
      "[ True False False  True False]\n"
     ]
    }
   ],
   "source": [
    "#Q5\n",
    "a=[ 0, 10, 20, 40, 60] \n",
    "b=[0,40]\n",
    "print(np.isin(a,b))"
   ]
  },
  {
   "cell_type": "code",
   "execution_count": 43,
   "metadata": {},
   "outputs": [
    {
     "name": "stdout",
     "output_type": "stream",
     "text": [
      "[ 0 20 30 50 60 70 80]\n"
     ]
    }
   ],
   "source": [
    "#Q6\n",
    "arr1=[ 0, 10, 20, 40, 60, 80]\n",
    "arr2=[10, 30, 40, 50, 70]  \n",
    "print(np.setxor1d(arr1, arr2))"
   ]
  },
  {
   "cell_type": "code",
   "execution_count": 59,
   "metadata": {},
   "outputs": [
    {
     "name": "stdout",
     "output_type": "stream",
     "text": [
      "[[1 2]\n",
      " [2 3]\n",
      " [3 4]]\n"
     ]
    }
   ],
   "source": [
    "#Q7\n",
    "a = np.array([1, 2, 3])\n",
    "b = np.array([2, 3, 4])\n",
    "print(np.column_stack((a,b)))"
   ]
  },
  {
   "cell_type": "code",
   "execution_count": 58,
   "metadata": {},
   "outputs": [
    {
     "name": "stdout",
     "output_type": "stream",
     "text": [
      "[[0 1]\n",
      " [2 3]]\n",
      "3\n",
      "-2.0\n",
      "2\n"
     ]
    }
   ],
   "source": [
    "#Q8\n",
    "a = np.arange(4).reshape((2,2))\n",
    "print(a)\n",
    "print(np.trace(a))\n",
    "print(np.linalg.det(a))\n",
    "print(np.linalg.matrix_rank(a))"
   ]
  },
  {
   "cell_type": "code",
   "execution_count": null,
   "metadata": {},
   "outputs": [],
   "source": []
  }
 ],
 "metadata": {
  "kernelspec": {
   "display_name": "Python 3",
   "language": "python",
   "name": "python3"
  },
  "language_info": {
   "codemirror_mode": {
    "name": "ipython",
    "version": 3
   },
   "file_extension": ".py",
   "mimetype": "text/x-python",
   "name": "python",
   "nbconvert_exporter": "python",
   "pygments_lexer": "ipython3",
   "version": "3.8.5"
  }
 },
 "nbformat": 4,
 "nbformat_minor": 4
}
